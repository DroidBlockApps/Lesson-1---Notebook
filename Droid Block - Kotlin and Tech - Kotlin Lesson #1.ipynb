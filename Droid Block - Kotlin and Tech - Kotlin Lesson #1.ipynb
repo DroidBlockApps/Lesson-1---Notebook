{
 "cells": [
  {
   "cell_type": "code",
   "execution_count": null,
   "id": "d4e1ca26",
   "metadata": {},
   "outputs": [],
   "source": [
    "// LESSON #1\n",
    "//Introduction into Kotlin Fundamentals and it's Type System."
   ]
  },
  {
   "cell_type": "code",
   "execution_count": null,
   "id": "ed748897",
   "metadata": {},
   "outputs": [],
   "source": [
    "//One can rationalize any thought in your mind and turn into computational code in Kotlin with:\n",
    "//variables \n",
    "//functions \n",
    "//classes \n",
    "//and what I refer to as types."
   ]
  },
  {
   "cell_type": "code",
   "execution_count": 12,
   "id": "3956b7d5",
   "metadata": {},
   "outputs": [
    {
     "name": "stdout",
     "output_type": "stream",
     "text": [
      "any text\n",
      "new text\n"
     ]
    }
   ],
   "source": [
    "// val or var key\n",
    "val value1 = \"some text\"\n",
    "var variable1 = \"any text\"\n",
    "println(\"${variable1}\")\n",
    "variable1 = \"new text\"\n",
    "println(\"${variable1}\")\n"
   ]
  },
  {
   "cell_type": "code",
   "execution_count": 8,
   "id": "c5d17b3b",
   "metadata": {},
   "outputs": [],
   "source": [
    "// class key\n",
    "class NewClass(): ExtendingClass() , ImplementingInterface1, ImplementingInterface2 {}"
   ]
  },
  {
   "cell_type": "code",
   "execution_count": null,
   "id": "462261d5",
   "metadata": {},
   "outputs": [],
   "source": [
    "// fun key\n",
    "fun functionOne():NewClass = NewClass()"
   ]
  },
  {
   "cell_type": "code",
   "execution_count": 10,
   "id": "10975832",
   "metadata": {},
   "outputs": [],
   "source": [
    "// interface key\n",
    "// is as a type key by allowing generics in the language that can be referenced to as 'types'\n",
    "interface ImplementingInterface1 {\n",
    "    val name = \"Interface Name\"\n",
    "    var countOfMembersInInterface: Int = 2\n",
    "}"
   ]
  },
  {
   "cell_type": "code",
   "execution_count": 15,
   "id": "c5d572ac",
   "metadata": {},
   "outputs": [
    {
     "name": "stdout",
     "output_type": "stream",
     "text": [
      "[A start signal]\n",
      "[A start signal]\n",
      "[A start signal]\n",
      "[A start signal]\n",
      "[A start signal]\n"
     ]
    }
   ],
   "source": [
    "// A simple street intersection simulation\n",
    "\n",
    "enum class LightSignal(val descriptions:List<String> = listOf(\"DefaultListItem: No Description Added\")) {\n",
    "    GREEN(\n",
    "        descriptions = listOf(\"A start signal\", \"A keep on going signal\", \"A better way there than red signal.\")\n",
    "    )\n",
    "    , RED(\n",
    "        listOf(\"RED SIGNAL MEANS STOP\", \"RED LIGHT STOP\", \"A SLOWER WAY HOME THAN GREEN SIGNAL\")\n",
    "    )\n",
    "    , YELLOW()\n",
    "}\n",
    "\n",
    "repeat(5) {\n",
    "    println(\"${LightSignal.GREEN.descriptions.take(1)}\")\n",
    "}\n",
    "\n",
    "\n",
    "\n",
    "\n",
    "\n",
    "\n",
    "\n",
    "\n",
    "\n",
    "\n",
    "\n",
    "\n",
    "\n",
    "\n",
    "\n",
    "\n",
    "\n",
    "\n",
    "\n",
    "\n",
    "\n",
    "\n",
    "\n",
    "\n"
   ]
  },
  {
   "cell_type": "code",
   "execution_count": null,
   "id": "d0d64f06",
   "metadata": {},
   "outputs": [],
   "source": []
  }
 ],
 "metadata": {
  "kernelspec": {
   "display_name": "Kotlin",
   "language": "kotlin",
   "name": "kotlin"
  },
  "language_info": {
   "codemirror_mode": "text/x-kotlin",
   "file_extension": ".kt",
   "mimetype": "text/x-kotlin",
   "name": "kotlin",
   "nbconvert_exporter": "",
   "pygments_lexer": "kotlin",
   "version": "1.8.20"
  }
 },
 "nbformat": 4,
 "nbformat_minor": 5
}
